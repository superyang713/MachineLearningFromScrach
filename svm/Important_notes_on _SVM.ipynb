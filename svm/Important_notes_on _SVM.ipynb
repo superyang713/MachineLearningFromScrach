{
 "cells": [
  {
   "cell_type": "markdown",
   "metadata": {},
   "source": [
    "### Two methods to optimize support vector machine:\n",
    "\n",
    "1. The Primal form:\n",
    "\n",
    "$$\n",
    "min_{w,b} {\\dfrac{1}{2}}||w||^2\n",
    "$$\n",
    "\n",
    "subject to: \n",
    "\n",
    "$$\n",
    "y^{(i)}(w^Tx^{(i)}-b) \\geq 1,  i=1,...,m\n",
    "$$\n",
    "\n",
    "2. The dual form:\n",
    "\n",
    "$$\n",
    "max_\\alpha W(\\alpha) = \\sum_{i=1}^{m} \\alpha_i - {\\dfrac{1}{2}}\\sum_{i,j=1}^m y^{(i)}y^{(j)}\\alpha_i\\alpha_j<x^{(i)}, x^{(j)}>\n",
    "$$\n",
    "\n",
    "subject to the following two constraints:\n",
    "$$\n",
    "0\\leq\\alpha_i\\leq C, i=1,...,m\n",
    "$$\n",
    "$$\n",
    "\\sum_{i=1}^{m} \\alpha_iy^{(i)} = 0\n",
    "$$\n",
    "\n",
    "Where\n",
    "\n",
    "* m  is the number of training examples\n",
    "* x(i)  is the  i -th training example feature vector\n",
    "* ⟨x(i),x(j)⟩  represents the inner product of the  x(i)  and  x(j)  feature vectors\n",
    "* y(i)  is the class for the  i -th training example\n",
    "* αi  is the Lagrange multiplier associated with the  i -th training example\n",
    "* C  is a regularization parameter (larger values introduce less regularization)"
   ]
  },
  {
   "cell_type": "code",
   "execution_count": null,
   "metadata": {},
   "outputs": [],
   "source": []
  }
 ],
 "metadata": {
  "kernelspec": {
   "display_name": "Python 3",
   "language": "python",
   "name": "python3"
  },
  "language_info": {
   "codemirror_mode": {
    "name": "ipython",
    "version": 3
   },
   "file_extension": ".py",
   "mimetype": "text/x-python",
   "name": "python",
   "nbconvert_exporter": "python",
   "pygments_lexer": "ipython3",
   "version": "3.6.6"
  }
 },
 "nbformat": 4,
 "nbformat_minor": 2
}
