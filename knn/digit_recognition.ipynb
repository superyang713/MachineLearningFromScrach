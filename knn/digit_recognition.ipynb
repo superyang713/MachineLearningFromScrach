{
 "cells": [
  {
   "cell_type": "code",
   "execution_count": 1,
   "metadata": {},
   "outputs": [],
   "source": [
    "import os\n",
    "\n",
    "import matplotlib.pyplot as plt\n",
    "import matplotlib\n",
    "\n",
    "# Personal library for data manipulation\n",
    "from lib.utils import load_image, get_image_data, get_error_rate\n",
    "\n",
    "# Personal Machine Learning Model\n",
    "from lib.knn import KNeighborsClassifier"
   ]
  },
  {
   "cell_type": "markdown",
   "metadata": {},
   "source": [
    "## Visualize the selected handwritten digits."
   ]
  },
  {
   "cell_type": "code",
   "execution_count": 2,
   "metadata": {},
   "outputs": [
    {
     "data": {
      "image/png": "[encoded data removed]",
      "text/plain": [
       "<Figure size 360x360 with 9 Axes>"
      ]
     },
     "metadata": {
      "needs_background": "light"
     },
     "output_type": "display_data"
    }
   ],
   "source": [
    "digit_filepaths = [os.path.join('data', 'trainingDigits', '{}_1.txt'.format(i)) for i in range(1, 10)]\n",
    "f, axarr = plt.subplots(3, 3, figsize=(5, 5))\n",
    "for i, path in enumerate(digit_filepaths):\n",
    "    digit_image = load_image(path).reshape(32, 32)\n",
    "    axarr[int(i/3), i%3].imshow(digit_image, cmap=matplotlib.cm.binary, interpolation='nearest')\n",
    "    axarr[int(i/3), i%3].axis('off')"
   ]
  },
  {
   "cell_type": "markdown",
   "metadata": {},
   "source": [
    "## Load all training and test data"
   ]
  },
  {
   "cell_type": "markdown",
   "metadata": {},
   "source": [
    "**Load feature datasets**"
   ]
  },
  {
   "cell_type": "code",
   "execution_count": 3,
   "metadata": {},
   "outputs": [],
   "source": [
    "train_folder = os.path.join('data', 'trainingDigits')\n",
    "test_folder = os.path.join('data', 'testDigits')\n",
    "X_train, y_train = get_image_data(train_folder)\n",
    "X_test, y_test = get_image_data(test_folder)"
   ]
  },
  {
   "cell_type": "code",
   "execution_count": 4,
   "metadata": {},
   "outputs": [
    {
     "name": "stdout",
     "output_type": "stream",
     "text": [
      "There are total 1934 training samples.\n",
      "There are total 946 samples.\n",
      "There are total 1024 features.\n"
     ]
    }
   ],
   "source": [
    "print('There are total {} training samples.'.format(X_train.shape[0]))\n",
    "print('There are total {} samples.'.format(X_test.shape[0]))\n",
    "print('There are total {} features.'.format(X_train.shape[1]))"
   ]
  },
  {
   "cell_type": "markdown",
   "metadata": {},
   "source": [
    "**\"Train\" the model (actually KNN is instance-based, and does not need to be trained)**"
   ]
  },
  {
   "cell_type": "code",
   "execution_count": 5,
   "metadata": {},
   "outputs": [
    {
     "data": {
      "text/plain": [
       "<lib.knn.KNeighborsClassifier at 0x7ff0850836d8>"
      ]
     },
     "execution_count": 5,
     "metadata": {},
     "output_type": "execute_result"
    }
   ],
   "source": [
    "neigh = KNeighborsClassifier(n_neighbors=4)\n",
    "neigh.fit(X_train, y_train)"
   ]
  },
  {
   "cell_type": "code",
   "execution_count": 6,
   "metadata": {},
   "outputs": [],
   "source": [
    "y_predict = neigh.predict(X_test)"
   ]
  },
  {
   "cell_type": "code",
   "execution_count": 7,
   "metadata": {},
   "outputs": [
    {
     "name": "stdout",
     "output_type": "stream",
     "text": [
      "The error rate of this KNN model is 0.011627906976744186\n"
     ]
    }
   ],
   "source": [
    "error_rate = get_error_rate(y_test, y_predict)\n",
    "print(\"The error rate of this KNN model is {}\".format(error_rate))"
   ]
  }
 ],
 "metadata": {
  "kernelspec": {
   "display_name": "Python 3",
   "language": "python",
   "name": "python3"
  },
  "language_info": {
   "codemirror_mode": {
    "name": "ipython",
    "version": 3
   },
   "file_extension": ".py",
   "mimetype": "text/x-python",
   "name": "python",
   "nbconvert_exporter": "python",
   "pygments_lexer": "ipython3",
   "version": "3.6.6"
  }
 },
 "nbformat": 4,
 "nbformat_minor": 2
}
